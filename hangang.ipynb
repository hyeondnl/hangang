{
 "cells": [
  {
   "cell_type": "markdown",
   "metadata": {},
   "source": [
    "# Hangang\n",
    "\n",
    "> Hangang, or the Han River is a major river in South Korea and the fourth longest river on the Korean penninsula after the Amnok, Tuman, and Nakdong rivers.\n",
    "\n",
    "## Water Temperature of Hangang\n",
    "\n",
    "Welcome to this page! The water temperature of hangang has a significant meaning to people in South Korea, since it has some very important meanings. There are several APIs provided to configure out the temperature."
   ]
  },
  {
   "cell_type": "code",
   "execution_count": null,
   "metadata": {},
   "outputs": [],
   "source": [
    "from html.parser import HTMLParser\n",
    "from urllib.request import urlopen\n",
    "from IPython.display import display, Markdown\n",
    "import ast\n",
    "\n",
    "html = urlopen('http://hangang.dkserver.wo.tc/')\n",
    "data = ast.literal_eval(html.read().decode('utf-8').strip())\n",
    "avail = True if data['result'] == \"true\" else False"
   ]
  },
  {
   "cell_type": "code",
   "execution_count": null,
   "metadata": {},
   "outputs": [],
   "source": [
    "if avail:\n",
    "    print(\"Time: {} KST, Temperature: {}°C\".format(data['time'], data['temp']))"
   ]
  },
  {
   "cell_type": "code",
   "execution_count": null,
   "metadata": {},
   "outputs": [],
   "source": [
    "if avail:\n",
    "    display(Markdown(\"### Okay! We now know that the water temperature of Hangang is about {}°C now!\".format(data['temp'])))"
   ]
  }
 ],
 "metadata": {
  "kernelspec": {
   "display_name": "Python 3",
   "language": "python",
   "name": "python3"
  },
  "language_info": {
   "codemirror_mode": {
    "name": "ipython",
    "version": 3
   },
   "file_extension": ".py",
   "mimetype": "text/x-python",
   "name": "python",
   "nbconvert_exporter": "python",
   "pygments_lexer": "ipython3",
   "version": "3.7.3"
  }
 },
 "nbformat": 4,
 "nbformat_minor": 4
}
