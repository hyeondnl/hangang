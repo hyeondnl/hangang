{
 "cells": [
  {
   "cell_type": "markdown",
   "metadata": {},
   "source": [
    "# Hangang\n",
    "![GitHub top language](https://img.shields.io/github/languages/top/naruei/hangang)\n",
    "![GitHub repo size](https://img.shields.io/github/repo-size/naruei/hangang)\n",
    "![GitHub last commit (branch)](https://img.shields.io/github/last-commit/naruei/hangang/master)\n",
    "![GitHub](https://img.shields.io/github/license/naruei/hangang)\n",
    "\n",
    "### Introduction\n",
    "Hangang, or the Han River is a major river in South Korea and the fourth longest river on the Korean penninsula after the Amnok, Tuman, and Nakdong rivers.\n",
    "\n",
    "### Water Temperature of Hangang"
   ]
  },
  {
   "cell_type": "code",
   "execution_count": 1,
   "metadata": {},
   "outputs": [],
   "source": [
    "from html.parser import HTMLParser\n",
    "from urllib.request import urlopen\n",
    "import ast\n",
    "\n",
    "html = urlopen('http://hangang.dkserver.wo.tc/')\n",
    "data = ast.literal_eval(html.read().decode('utf-8').strip())\n",
    "avail = True if data['result'] == \"true\" else False"
   ]
  },
  {
   "cell_type": "code",
   "execution_count": 2,
   "metadata": {},
   "outputs": [
    {
     "name": "stdout",
     "output_type": "stream",
     "text": [
      "Time: 2020-07-02 19:00:03 KST, Temperature: 24.6°C\n"
     ]
    }
   ],
   "source": [
    "if avail:\n",
    "    print(\"Time: {} KST, Temperature: {}°C\".format(data['time'], data['temp']))"
   ]
  },
  {
   "cell_type": "code",
   "execution_count": null,
   "metadata": {},
   "outputs": [],
   "source": []
  }
 ],
 "metadata": {
  "kernelspec": {
   "display_name": "Python 3",
   "language": "python",
   "name": "python3"
  },
  "language_info": {
   "codemirror_mode": {
    "name": "ipython",
    "version": 3
   },
   "file_extension": ".py",
   "mimetype": "text/x-python",
   "name": "python",
   "nbconvert_exporter": "python",
   "pygments_lexer": "ipython3",
   "version": "3.7.3"
  }
 },
 "nbformat": 4,
 "nbformat_minor": 4
}
